{
 "cells": [
  {
   "cell_type": "markdown",
   "metadata": {},
   "source": [
    "# Stocks\n",
    "\n",
    "List of stocks that I'm looking this is at reprersented using jupyter notebook and [stock market pattern detection](https://huggingface.co/foduucom/stockmarket-pattern-detection-yolov8).\n",
    "\n",
    "## THIS IS NOT FINANCIAL ADVICE\n",
    "The content provided on this notebook is for informational purposes only and should not be interpreted as financial advice. The opinions and analyses offered are based on the author's personal observations and should not be considered as a recommendation for any particular investment strategy. Readers are encouraged to conduct their own research or consult with a qualified professional before making any financial decisions. The blog, its authors, or affiliates will not be held liable for any losses or damages resulting from decisions made based on the information presented here."
   ]
  },
  {
   "cell_type": "code",
   "execution_count": 1,
   "metadata": {},
   "outputs": [],
   "source": [
    "import os\n",
    "import numpy as np\n",
    "import pandas as pd"
   ]
  },
  {
   "cell_type": "code",
   "execution_count": 2,
   "metadata": {},
   "outputs": [
    {
     "name": "stdout",
     "output_type": "stream",
     "text": [
      "\n",
      "\t       Directory     File\n",
      "0  stocks/retail  test.js industries\n",
      "\n",
      "\n"
     ]
    }
   ],
   "source": [
    "def list_files_and_directories(path):\n",
    "    data = []\n",
    "    for dirpath, dirnames, filenames in os.walk(path):\n",
    "        for filename in filenames:\n",
    "            data.append({'Directory': dirpath, 'File': filename})\n",
    "    return pd.DataFrame(data)\n",
    "\n",
    "stocks = list_files_and_directories('stocks')\n",
    "print(f\"\"\"\n",
    "\t{stocks} industries\\n\n",
    "\"\"\")"
   ]
  },
  {
   "cell_type": "markdown",
   "metadata": {},
   "source": [
    "## OverView\n",
    "\n",
    "So essentially I started my journey back in the pandemic at the time I was working part time at OpenTHC doing some of"
   ]
  },
  {
   "cell_type": "markdown",
   "metadata": {},
   "source": [
    "## Cheatsheats\n",
    "\n",
    "Some helpful cheatsheets that I love to use. \n",
    "\n",
    "- ![candlestick patterns](https://github.com/theCompanyDream/journey/content/data/cheatsheets/candlestick_patterns.jpg)\n",
    "- ![charts](https://github.com/theCompanyDream/journey/content/data/cheatsheets/charts.jpg)\n",
    "- ![data_stuff](https://github.com/theCompanyDream/journey/content/data/cheatsheets/data_stuff.jpg)\n",
    "- ![fib](https://github.com/theCompanyDream/journey/content/data/cheatsheets/data_stuff.jpg)\n",
    "- ![fib2](https://github.com/theCompanyDream/journey/content/data/cheatsheets/fib.jpg)\n",
    "- ![fib2](https://github.com/theCompanyDream/journey/content/data/cheatsheets/fib2.jpg)\n",
    "- ![fib3](https://github.com/theCompanyDream/journey/content/data/cheatsheets/fib3.jpg)\n",
    "- ![fib4](https://github.com/theCompanyDream/journey/content/data/cheatsheets/fib4.jpg)\n",
    "- ![harmonic](https://github.com/theCompanyDream/journey/content/data/cheatsheets/harmonic.jpg)\n",
    "- ![macd](https://github.com/theCompanyDream/journey/content/data/cheatsheets/macd.jpg)\n",
    "- ![patterns](https://github.com/theCompanyDream/journey/content/data/cheatsheets/patterns.jpg)\n",
    "- ![patterns2](https://github.com/theCompanyDream/journey/content/data/cheatsheets/patterns2.jpg)\n",
    "- ![patterns3](https://github.com/theCompanyDream/journey/content/data/cheatsheets/patterns3.jpg)\n",
    "- ![patterns4](https://github.com/theCompanyDream/journey/content/data/cheatsheets/patterns4.jpg)\n"
   ]
  },
  {
   "cell_type": "code",
   "execution_count": null,
   "metadata": {},
   "outputs": [],
   "source": []
  }
 ],
 "metadata": {
  "kernelspec": {
   "display_name": "Python 3 (ipykernel)",
   "language": "python",
   "name": "python3"
  },
  "language_info": {
   "codemirror_mode": {
    "name": "ipython",
    "version": 3
   },
   "file_extension": ".py",
   "mimetype": "text/x-python",
   "name": "python",
   "nbconvert_exporter": "python",
   "pygments_lexer": "ipython3",
   "version": "3.9.13"
  }
 },
 "nbformat": 4,
 "nbformat_minor": 4
}
